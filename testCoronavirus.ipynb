{
 "cells": [
  {
   "cell_type": "code",
   "execution_count": 229,
   "metadata": {},
   "outputs": [],
   "source": [
    "import os\n",
    "import pandas as pd\n",
    "import numpy as np\n",
    "import json\n",
    "import pickle\n",
    "from datetime import datetime as dt, timedelta\n",
    "\n",
    "import matplotlib.pyplot as plt\n",
    "import geopy.distance\n",
    "import gmplot \n",
    "import time\n",
    "\n",
    "from ipywidgets import interact\n",
    "import ipywidgets as widgets\n",
    "\n",
    "from IPython.display import IFrame"
   ]
  },
  {
   "cell_type": "code",
   "execution_count": 8,
   "metadata": {},
   "outputs": [],
   "source": [
    "BASE_PATH = os.getcwd()"
   ]
  },
  {
   "cell_type": "code",
   "execution_count": 226,
   "metadata": {},
   "outputs": [],
   "source": [
    "class test_person():\n",
    "    '''\n",
    "    \"test_filename\": 'Test.json' | \"infected_filename\": 'Infected.json' | \"plot\": False |\n",
    "    \"cutoff_days\": 14 | \"drop_columns\": True | \"pickle_dataset\": False | \"load_test_pickle\": False | \"test_pickle_name\": 'test.pickle' | \"load_infected_pickle\": False\n",
    "    \"max_score\": 100.0 | \"infected_pickle_name\": 'infected.pickle' | \"safe_distance\": 20.0\n",
    "    \"resultMap_name\": 'result.HTML'\n",
    "    \n",
    "    \n",
    "    This class helps in testing a user for chances of COVID-19 (or any other communicable disease) based on the user's GPS history which needs to be compared with GPS history\n",
    "    of people confirmed with the infection.\n",
    "    \n",
    "    '''\n",
    "    def __init__(self,**kwargs):\n",
    "        \n",
    "        print('Initializing Arguments...\\n')\n",
    "        default_args = {\n",
    "                         \"test_filename\": 'Test.json', \n",
    "                         \"infected_filename\": 'Infected.json',\n",
    "                         \"plot\": False,\n",
    "                         \"pathMap_name\": 'pathMap.HTML',\n",
    "                         \"cutoff_days\": 14,\n",
    "                         \"drop_columns\": True,\n",
    "                         \"pickle_dataset\": False,\n",
    "                         \"load_test_pickle\": False,\n",
    "                         \"test_pickle_name\": 'test.pickle',\n",
    "                         \"safe_distance\": 20.0,\n",
    "                         \"max_score\": 100.0,\n",
    "                         \"load_infected_pickle\": False,\n",
    "                         \"infected_pickle_name\": 'infected.pickle',\n",
    "                         \"resultMap_name\": 'result.HTML'\n",
    "                        }\n",
    "\n",
    "        for (arg,default) in default_args.items():\n",
    "            setattr(self, arg, kwargs.get(arg,default))\n",
    "        \n",
    "        # need to read infected dataset as pickle not available\n",
    "        if(not self.load_infected_pickle):\n",
    "            tick = time.time()\n",
    "            self.infected_df = self.loadData()\n",
    "            tock = time.time()\n",
    "            print('Time taken to read and transform Infected Dataset: {} seconds\\n'.format((tock-tick)))\n",
    "            self.load_infected_pickle = True\n",
    "        else:\n",
    "            # loading infected pickled file\n",
    "            print('Loading infected pickled file...')\n",
    "            with open(os.path.join(BASE_PATH,self.infected_pickle_name), 'rb') as handle:\n",
    "                self.infected_df = pickle.load(handle)\n",
    "                print('Completed\\n')\n",
    "        \n",
    "        if(not self.load_test_pickle):\n",
    "            tick = time.time()\n",
    "            self.df = self.loadData()\n",
    "            tock = time.time()\n",
    "            print('Time taken to read and transform Test Dataset: {} seconds\\n'.format((tock-tick)))\n",
    "        else:\n",
    "            # loading test pickled file\n",
    "            print('Loading test pickled file...')\n",
    "            with open(os.path.join(BASE_PATH,self.test_pickle_name), 'rb') as handle:\n",
    "                self.df = pickle.load(handle)\n",
    "                print('Completed\\n')\n",
    "        \n",
    "        self.result = 'Please call the test function to calculate the result!'\n",
    "    \n",
    "    def loadData(self):\n",
    "        \n",
    "        # loading infected dataset\n",
    "        if(not self.load_infected_pickle):\n",
    "            print('Reading Infected Dataset...\\nThis may take a while depending on the size of the dataset!')\n",
    "            file = os.path.join(BASE_PATH,'data\\\\{}'.format(self.infected_filename))\n",
    "            data = pd.read_json(file)\n",
    "            print('Read complete')\n",
    "        # loading test dataset\n",
    "        else:\n",
    "            print('Reading Test Dataset. This may take a while depending on the size of the dataset!')\n",
    "            file = os.path.join(BASE_PATH,'data\\\\{}'.format(self.test_filename))\n",
    "            data = pd.read_json(file)\n",
    "            print('Read complete')\n",
    "        \n",
    "        # printing only when reading test dataset\n",
    "        if(self.load_infected_pickle):\n",
    "            print('There are total {:,} rows in your location history'.format(len(data)))\n",
    "\n",
    "        # parsing timestamp\n",
    "        data.loc[:,'timestamp_ms'] = data['locations'].map(lambda x: x['timestampMs'])\n",
    "        data.loc[:,'timestamp_ms'] = data['timestamp_ms'].astype(float)/1000\n",
    "        \n",
    "        # convertin timestamp to datetime and parsing date\n",
    "        data.loc[:,'datetime'] = data['timestamp_ms'].map(lambda x: dt.fromtimestamp(x).strftime('%Y-%m-%d %H:%M:%S'))\n",
    "        data.loc[:,'datetime'] = data['datetime'].apply(lambda x: dt.strptime(x,'%Y-%m-%d %H:%M:%S'))\n",
    "        data.loc[:,'date'] = data['datetime'].apply(lambda x: x.date())\n",
    "\n",
    "        cutoff_date = (dt.today() - timedelta(days=self.cutoff_days)).date()\n",
    "\n",
    "        cutoff_data = data[data['date'] >= cutoff_date].reset_index(drop = True)\n",
    "\n",
    "        # parse lat, lon, and timestamp from the dict inside the locations column\n",
    "        cutoff_data.loc[:,'lat'] = cutoff_data['locations'].map(lambda x: x['latitudeE7'])\n",
    "        cutoff_data.loc[:,'lon'] = cutoff_data['locations'].map(lambda x: x['longitudeE7'])\n",
    "\n",
    "        # convert lat/lon to decimalized degrees\n",
    "        cutoff_data.loc[:,'lat'] = cutoff_data['lat'] / 10.**7\n",
    "        cutoff_data.loc[:,'lon'] = cutoff_data['lon'] / 10.**7\n",
    "        \n",
    "        # convert time of day in minutes\n",
    "        cutoff_data.loc[:,'timeMinutes'] = cutoff_data['datetime'].apply(lambda x: ((x.hour*60)+(x.minute)+(x.second/60)))\n",
    "        \n",
    "        # bucket time in 1 minute intervals and keep only one record per interval on a day\n",
    "        cutoff_data.loc[:,'timeBucket'] = pd.cut(cutoff_data['timeMinutes'],bins=range(0,1441,1))\n",
    "        cutoff_data.drop_duplicates(['date','timeBucket'],inplace=True)\n",
    "        \n",
    "        if(self.drop_columns):\n",
    "            print('Unwanted columns dropped.')\n",
    "            cutoff_data.drop(columns=['locations','timestamp_ms'],inplace=True)\n",
    "\n",
    "        if(self.load_infected_pickle):\n",
    "            print('There are {:,} rows in the cutoff dataset'.format(len(cutoff_data)))\n",
    "            print('Start Date: {}\\nEnd Date: {}'.format(dt.strftime(min(cutoff_data['date']),'%d %b,%Y'),dt.strftime(max(cutoff_data['date']),'%d %b,%Y')))\n",
    "        \n",
    "        if(self.pickle_dataset):\n",
    "            \n",
    "            if(not self.load_infected_pickle):\n",
    "                with open(self.infected_pickle_name, 'wb') as handle:\n",
    "                    pickle.dump(cutoff_data, handle)\n",
    "                    print('Infected dataset pickled successfully.')\n",
    "            else:\n",
    "                with open(self.test_pickle_name, 'wb') as handle:\n",
    "                    pickle.dump(cutoff_data, handle)\n",
    "                    print('Test dataset pickled successfully.')\n",
    "\n",
    "        return(cutoff_data)\n",
    "    \n",
    "    def test(self):\n",
    "        \n",
    "        merged_df = self.infected_df.merge(self.df,how='inner',on=['date','timeBucket'],suffixes=('_infected','_test'))\n",
    "        merged_df.loc[:,'distance'] = merged_df.apply(lambda row: geopy.distance.distance((row['lat_infected'],row['lon_infected']),(row['lat_test'],row['lon_test'])).m,axis=1)\n",
    "        \n",
    "        dateTime_df = merged_df[merged_df['distance'] < self.safe_distance].groupby(['date','timeBucket','lat_test','lon_test']).aggregate({'distance':'mean'}).dropna().reset_index()\n",
    "        dateTime_df.loc[:,'score'] = dateTime_df['distance'].apply(lambda x: 1/(x+0.1))\n",
    "        \n",
    "        result = dateTime_df.groupby(['date'])['score'].sum().reset_index()\n",
    "        result.loc[:,'probability'] = result['score']/self.max_score\n",
    "        \n",
    "        self.result = result[['date']].merge(dateTime_df,how='left',on=['date'])\n",
    "        self.result.loc[:,'time'] = self.result['timeBucket'].apply(lambda x: str(int(x.left/60)) + ':' + str(x.left%60))\n",
    "        \n",
    "        result.loc[:,'date'] = result['date'].apply(lambda x: dt.strftime(x,'%d %b,%Y')) \n",
    "        print('You may have come in contact with an infected person on the following dates: {}'.format(list(result['date'].values)))\n",
    "        print('Your infection probability: {:.3}% '.format(result['probability'].sum()*100))\n",
    "\n",
    "    \n",
    "    def plotPath(self):\n",
    "        \n",
    "        @interact\n",
    "        def plot(date=self.df['date'].unique().tolist()):\n",
    "            \n",
    "            if(type(date) == list):\n",
    "                plotData = self.df[self.df['date'] == date[0]]\n",
    "            else:\n",
    "                plotData = self.df[self.df['date'] == date]\n",
    "            center_lat = plotData['lat'].mean()  \n",
    "            center_lon = plotData['lon'].mean()\n",
    "            gmap = gmplot.GoogleMapPlotter(center_lat,center_lon,zoom=12)\n",
    "\n",
    "            gmap.scatter(plotData['lat'], plotData['lon'], '# FF0000',size = 40, marker = False)\n",
    "            gmap.plot(plotData['lat'], plotData['lon'],'cornflowerblue', edge_width = 2.5) \n",
    "            gmap.draw(os.path.join(BASE_PATH,self.pathMap_name))\n",
    "\n",
    "            return(IFrame(src='./{}'.format(self.pathMap_name), width=800, height=400))\n",
    "        \n",
    "        plot()\n",
    "        \n",
    "    def plotResult(self):\n",
    "        \n",
    "        @interact\n",
    "        def plot(date = self.result['date'].unique().tolist(),time = self.result['time'].unique().tolist()):\n",
    "            \n",
    "            if(type(date) == list):\n",
    "                plotData = self.result[self.result['date'] == date[0]][self.result['time'] == time[0]]\n",
    "            else:\n",
    "                plotData = self.result[self.result['date'] == date][self.result['time'] == time]\n",
    "            \n",
    "            center_lat = self.result['lat_test'].mean()  \n",
    "            center_lon = self.result['lon_test'].mean()\n",
    "                                                                    \n",
    "            gmap = gmplot.GoogleMapPlotter(center_lat,center_lon,zoom=16)\n",
    "            \n",
    "            gmap.scatter(plotData['lat_test'], plotData['lon_test'],'red',size = 10, marker = False)\n",
    "            gmap.draw(os.path.join(BASE_PATH,self.resultMap_name))\n",
    "\n",
    "            return(IFrame(src='./{}'.format(self.resultMap_name), width=800, height=400))\n",
    "        \n",
    "        plot()"
   ]
  },
  {
   "cell_type": "code",
   "execution_count": 19,
   "metadata": {
    "collapsed": true
   },
   "outputs": [
    {
     "name": "stdout",
     "output_type": "stream",
     "text": [
      "Initializing Arguments...\n",
      "Reading Infected Dataset...\n",
      "This may take a while depending on the size of the dataset!\n",
      "Read complete.\n",
      "Time taken to read Infected Dataset: 380.2379813194275 seconds\n",
      "Reading Test Dataset. This may take a while depending on the size of the dataset!\n",
      "Read complete.\n",
      "There are total 764,848 rows in your location history\n",
      "There are 296 rows in the cutoff dataset\n",
      "Start Date: 07 Mar,2020\n",
      "End Date: 20 Mar,2020\n",
      "Time taken to read Test Dataset: 63.825989723205566 seconds\n"
     ]
    }
   ],
   "source": [
    "# vb = test_person(pickle_dataset=True)"
   ]
  },
  {
   "cell_type": "code",
   "execution_count": 227,
   "metadata": {},
   "outputs": [
    {
     "name": "stdout",
     "output_type": "stream",
     "text": [
      "Initializing Arguments...\n",
      "\n",
      "Loading infected pickled file...\n",
      "Completed\n",
      "\n",
      "Loading test pickled file...\n",
      "Completed\n",
      "\n"
     ]
    }
   ],
   "source": [
    "vb = test_person(load_test_pickle = True,load_infected_pickle=True)"
   ]
  },
  {
   "cell_type": "code",
   "execution_count": 228,
   "metadata": {},
   "outputs": [
    {
     "data": {
      "application/vnd.jupyter.widget-view+json": {
       "model_id": "f3868b4a4bd54e9ca81760161344dfc1",
       "version_major": 2,
       "version_minor": 0
      },
      "text/plain": [
       "interactive(children=(Dropdown(description='date', options=(datetime.date(2020, 3, 7), datetime.date(2020, 3, …"
      ]
     },
     "metadata": {},
     "output_type": "display_data"
    }
   ],
   "source": [
    "vb.plotPath()"
   ]
  },
  {
   "cell_type": "code",
   "execution_count": 217,
   "metadata": {},
   "outputs": [
    {
     "name": "stdout",
     "output_type": "stream",
     "text": [
      "You may have come in contact with an infected person on the following dates: ['07 Mar,2020']\n",
      "Your infection probability: 0.185% \n"
     ]
    }
   ],
   "source": [
    "vb.test()"
   ]
  },
  {
   "cell_type": "code",
   "execution_count": 218,
   "metadata": {},
   "outputs": [
    {
     "data": {
      "text/html": [
       "<div>\n",
       "<style scoped>\n",
       "    .dataframe tbody tr th:only-of-type {\n",
       "        vertical-align: middle;\n",
       "    }\n",
       "\n",
       "    .dataframe tbody tr th {\n",
       "        vertical-align: top;\n",
       "    }\n",
       "\n",
       "    .dataframe thead th {\n",
       "        text-align: right;\n",
       "    }\n",
       "</style>\n",
       "<table border=\"1\" class=\"dataframe\">\n",
       "  <thead>\n",
       "    <tr style=\"text-align: right;\">\n",
       "      <th></th>\n",
       "      <th>date</th>\n",
       "      <th>timeBucket</th>\n",
       "      <th>lat_test</th>\n",
       "      <th>lon_test</th>\n",
       "      <th>distance</th>\n",
       "      <th>score</th>\n",
       "      <th>time</th>\n",
       "    </tr>\n",
       "  </thead>\n",
       "  <tbody>\n",
       "    <tr>\n",
       "      <th>0</th>\n",
       "      <td>2020-03-07</td>\n",
       "      <td>(1352, 1353]</td>\n",
       "      <td>28.454372</td>\n",
       "      <td>77.049336</td>\n",
       "      <td>8.244519</td>\n",
       "      <td>0.119839</td>\n",
       "      <td>22:32</td>\n",
       "    </tr>\n",
       "    <tr>\n",
       "      <th>1</th>\n",
       "      <td>2020-03-07</td>\n",
       "      <td>(1409, 1410]</td>\n",
       "      <td>28.454580</td>\n",
       "      <td>77.049290</td>\n",
       "      <td>15.321866</td>\n",
       "      <td>0.064843</td>\n",
       "      <td>23:29</td>\n",
       "    </tr>\n",
       "  </tbody>\n",
       "</table>\n",
       "</div>"
      ],
      "text/plain": [
       "         date    timeBucket   lat_test   lon_test   distance     score   time\n",
       "0  2020-03-07  (1352, 1353]  28.454372  77.049336   8.244519  0.119839  22:32\n",
       "1  2020-03-07  (1409, 1410]  28.454580  77.049290  15.321866  0.064843  23:29"
      ]
     },
     "execution_count": 218,
     "metadata": {},
     "output_type": "execute_result"
    }
   ],
   "source": [
    "vb.result"
   ]
  },
  {
   "cell_type": "code",
   "execution_count": 219,
   "metadata": {},
   "outputs": [
    {
     "data": {
      "application/vnd.jupyter.widget-view+json": {
       "model_id": "13ab961fc59441be831610f5073bf285",
       "version_major": 2,
       "version_minor": 0
      },
      "text/plain": [
       "interactive(children=(Dropdown(description='date', options=(datetime.date(2020, 3, 7),), value=datetime.date(2…"
      ]
     },
     "metadata": {},
     "output_type": "display_data"
    }
   ],
   "source": [
    "vb.plotResult()"
   ]
  }
 ],
 "metadata": {
  "kernelspec": {
   "display_name": "Python 3",
   "language": "python",
   "name": "python3"
  },
  "language_info": {
   "codemirror_mode": {
    "name": "ipython",
    "version": 3
   },
   "file_extension": ".py",
   "mimetype": "text/x-python",
   "name": "python",
   "nbconvert_exporter": "python",
   "pygments_lexer": "ipython3",
   "version": "3.6.5"
  }
 },
 "nbformat": 4,
 "nbformat_minor": 2
}
